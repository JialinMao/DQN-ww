{
 "cells": [
  {
   "cell_type": "code",
   "execution_count": 1,
   "metadata": {
    "collapsed": false
   },
   "outputs": [],
   "source": [
    "w = {}\n",
    "import os\n",
    "import tensorflow as tf\n",
    "from dqn.ops import linear\n",
    "from dqn.utils import get_time, save_pkl, load_pkl\n",
    "from dqn.ops import conv2d\n",
    "import numpy as np\n",
    "obs=np.array([[[ 1.],\n",
    "        [ 0.]],\n",
    "\n",
    "       [[ 0.],\n",
    "        [ 1.]],\n",
    "\n",
    "       [[ 1.],\n",
    "        [ 0.]],\n",
    "\n",
    "       [[ 0.],\n",
    "        [ 1.]],\n",
    "\n",
    "       [[ 0.],\n",
    "        [ 1.]],\n",
    "\n",
    "       [[ 0.],\n",
    "        [ 1.]],\n",
    "\n",
    "       [[ 0.],\n",
    "        [ 1.]],\n",
    "\n",
    "       [[ 0.],\n",
    "        [ 1.]]])"
   ]
  },
  {
   "cell_type": "code",
   "execution_count": 2,
   "metadata": {
    "collapsed": false
   },
   "outputs": [
    {
     "name": "stdout",
     "output_type": "stream",
     "text": [
      "[[[[ 1.  0.]]\n",
      "\n",
      "  [[ 0.  1.]]]\n",
      "\n",
      "\n",
      " [[[ 1.  0.]]\n",
      "\n",
      "  [[ 0.  1.]]]]\n"
     ]
    }
   ],
   "source": [
    "w1 = np.expand_dims(np.array([[[1.,0.],[0., 1.]],[[1.,0.],[0.,1.]]]), axis=2)\n",
    "print w1\n",
    "obs = obs.transpose((2,0,1))"
   ]
  },
  {
   "cell_type": "code",
   "execution_count": 4,
   "metadata": {
    "collapsed": false
   },
   "outputs": [
    {
     "ename": "AttributeError",
     "evalue": "'dict' object has no attribute 'graph'",
     "output_type": "error",
     "traceback": [
      "\u001b[1;31m---------------------------------------------------------------------------\u001b[0m",
      "\u001b[1;31mAttributeError\u001b[0m                            Traceback (most recent call last)",
      "\u001b[1;32m<ipython-input-4-94222dd1e594>\u001b[0m in \u001b[0;36m<module>\u001b[1;34m()\u001b[0m\n\u001b[0;32m     25\u001b[0m     \u001b[0maction\u001b[0m \u001b[1;33m=\u001b[0m \u001b[0mq_action\u001b[0m\u001b[1;33m.\u001b[0m\u001b[0meval\u001b[0m\u001b[1;33m(\u001b[0m\u001b[1;33m{\u001b[0m\u001b[0ms_t\u001b[0m\u001b[1;33m:\u001b[0m \u001b[1;33m[\u001b[0m\u001b[0mobs\u001b[0m\u001b[1;33m]\u001b[0m\u001b[1;33m}\u001b[0m\u001b[1;33m)\u001b[0m\u001b[1;33m[\u001b[0m\u001b[1;36m0\u001b[0m\u001b[1;33m]\u001b[0m\u001b[1;33m\u001b[0m\u001b[0m\n\u001b[0;32m     26\u001b[0m     \u001b[0ml1\u001b[0m \u001b[1;33m=\u001b[0m \u001b[0ml2\u001b[0m\u001b[1;33m.\u001b[0m\u001b[0meval\u001b[0m\u001b[1;33m(\u001b[0m\u001b[1;33m{\u001b[0m\u001b[0ms_t\u001b[0m\u001b[1;33m:\u001b[0m \u001b[1;33m[\u001b[0m\u001b[0mobs\u001b[0m\u001b[1;33m]\u001b[0m\u001b[1;33m}\u001b[0m\u001b[1;33m)\u001b[0m\u001b[1;33m[\u001b[0m\u001b[1;36m0\u001b[0m\u001b[1;33m]\u001b[0m\u001b[1;33m\u001b[0m\u001b[0m\n\u001b[1;32m---> 27\u001b[1;33m     \u001b[0mq_w\u001b[0m \u001b[1;33m=\u001b[0m \u001b[0mw\u001b[0m\u001b[1;33m[\u001b[0m\u001b[1;34m'q_w'\u001b[0m\u001b[1;33m]\u001b[0m\u001b[1;33m.\u001b[0m\u001b[0meval\u001b[0m\u001b[1;33m(\u001b[0m\u001b[1;33m{\u001b[0m\u001b[0ms_t\u001b[0m\u001b[1;33m:\u001b[0m \u001b[1;33m[\u001b[0m\u001b[0mobs\u001b[0m\u001b[1;33m]\u001b[0m\u001b[1;33m}\u001b[0m\u001b[1;33m)\u001b[0m\u001b[1;33m[\u001b[0m\u001b[1;36m0\u001b[0m\u001b[1;33m]\u001b[0m\u001b[1;33m\u001b[0m\u001b[0m\n\u001b[0m\u001b[0;32m     28\u001b[0m     \u001b[1;32mprint\u001b[0m \u001b[0ml1\u001b[0m\u001b[1;33m\u001b[0m\u001b[0m\n\u001b[0;32m     29\u001b[0m     \u001b[1;32mprint\u001b[0m \u001b[0mq_w\u001b[0m\u001b[1;33m\u001b[0m\u001b[0m\n",
      "\u001b[1;32m/usr/local/lib/python2.7/dist-packages/tensorflow/python/ops/variables.pyc\u001b[0m in \u001b[0;36meval\u001b[1;34m(self, session)\u001b[0m\n\u001b[0;32m    439\u001b[0m       \u001b[0mA\u001b[0m \u001b[0mnumpy\u001b[0m \u001b[1;33m`\u001b[0m\u001b[0mndarray\u001b[0m\u001b[1;33m`\u001b[0m \u001b[1;32mwith\u001b[0m \u001b[0ma\u001b[0m \u001b[0mcopy\u001b[0m \u001b[0mof\u001b[0m \u001b[0mthe\u001b[0m \u001b[0mvalue\u001b[0m \u001b[0mof\u001b[0m \u001b[0mthis\u001b[0m \u001b[0mvariable\u001b[0m\u001b[1;33m.\u001b[0m\u001b[1;33m\u001b[0m\u001b[0m\n\u001b[0;32m    440\u001b[0m     \"\"\"\n\u001b[1;32m--> 441\u001b[1;33m     \u001b[1;32mreturn\u001b[0m \u001b[0mself\u001b[0m\u001b[1;33m.\u001b[0m\u001b[0m_variable\u001b[0m\u001b[1;33m.\u001b[0m\u001b[0meval\u001b[0m\u001b[1;33m(\u001b[0m\u001b[0msession\u001b[0m\u001b[1;33m=\u001b[0m\u001b[0msession\u001b[0m\u001b[1;33m)\u001b[0m\u001b[1;33m\u001b[0m\u001b[0m\n\u001b[0m\u001b[0;32m    442\u001b[0m \u001b[1;33m\u001b[0m\u001b[0m\n\u001b[0;32m    443\u001b[0m   \u001b[1;32mdef\u001b[0m \u001b[0minitialized_value\u001b[0m\u001b[1;33m(\u001b[0m\u001b[0mself\u001b[0m\u001b[1;33m)\u001b[0m\u001b[1;33m:\u001b[0m\u001b[1;33m\u001b[0m\u001b[0m\n",
      "\u001b[1;32m/usr/local/lib/python2.7/dist-packages/tensorflow/python/framework/ops.pyc\u001b[0m in \u001b[0;36meval\u001b[1;34m(self, feed_dict, session)\u001b[0m\n\u001b[0;32m    554\u001b[0m \u001b[1;33m\u001b[0m\u001b[0m\n\u001b[0;32m    555\u001b[0m     \"\"\"\n\u001b[1;32m--> 556\u001b[1;33m     \u001b[1;32mreturn\u001b[0m \u001b[0m_eval_using_default_session\u001b[0m\u001b[1;33m(\u001b[0m\u001b[0mself\u001b[0m\u001b[1;33m,\u001b[0m \u001b[0mfeed_dict\u001b[0m\u001b[1;33m,\u001b[0m \u001b[0mself\u001b[0m\u001b[1;33m.\u001b[0m\u001b[0mgraph\u001b[0m\u001b[1;33m,\u001b[0m \u001b[0msession\u001b[0m\u001b[1;33m)\u001b[0m\u001b[1;33m\u001b[0m\u001b[0m\n\u001b[0m\u001b[0;32m    557\u001b[0m \u001b[1;33m\u001b[0m\u001b[0m\n\u001b[0;32m    558\u001b[0m \u001b[1;33m\u001b[0m\u001b[0m\n",
      "\u001b[1;32m/usr/local/lib/python2.7/dist-packages/tensorflow/python/framework/ops.pyc\u001b[0m in \u001b[0;36m_eval_using_default_session\u001b[1;34m(tensors, feed_dict, graph, session)\u001b[0m\n\u001b[0;32m   3643\u001b[0m                        \"`eval(session=sess)`.\")\n\u001b[0;32m   3644\u001b[0m   \u001b[1;32melse\u001b[0m\u001b[1;33m:\u001b[0m\u001b[1;33m\u001b[0m\u001b[0m\n\u001b[1;32m-> 3645\u001b[1;33m     \u001b[1;32mif\u001b[0m \u001b[0msession\u001b[0m\u001b[1;33m.\u001b[0m\u001b[0mgraph\u001b[0m \u001b[1;32mis\u001b[0m \u001b[1;32mnot\u001b[0m \u001b[0mgraph\u001b[0m\u001b[1;33m:\u001b[0m\u001b[1;33m\u001b[0m\u001b[0m\n\u001b[0m\u001b[0;32m   3646\u001b[0m       raise ValueError(\"Cannot use the given session to evaluate tensor: \"\n\u001b[0;32m   3647\u001b[0m                        \u001b[1;34m\"the tensor's graph is different from the session's \"\u001b[0m\u001b[1;33m\u001b[0m\u001b[0m\n",
      "\u001b[1;31mAttributeError\u001b[0m: 'dict' object has no attribute 'graph'"
     ]
    }
   ],
   "source": [
    "with tf.Session() as sess:\n",
    "    w = {}\n",
    "    t_w = {}\n",
    "\n",
    "    init1_w = tf.constant_initializer(w1)\n",
    "    init1_b = tf.constant_initializer(-1.0)\n",
    "    init2_w = tf.constant_initializer(1.) \n",
    "    init2_b = tf.constant_initializer(0.0)\n",
    "    activation_fn = tf.nn.relu\n",
    "\n",
    "    with tf.variable_scope('prediction', reuse=None):\n",
    "        s_t = tf.placeholder('float32',\n",
    "                    [None, 1, 8, 2], name='s_t')\n",
    "        l1, w['l1_w'], w['l1_b'] = conv2d(s_t, \n",
    "                    2, [2, 2], [2, 1], init1_b, init1_w, activation_fn, 'NCHW', name='l1' )\n",
    "        l2, w['l2_w'], w['l2_b'] = conv2d(l1, \n",
    "                    1, [1, 1], [1, 1], init2_b, init2_w, activation_fn, 'NCHW', name='l2' )\n",
    "        \n",
    "        shape = l2.get_shape().as_list()\n",
    "        l2_flat = tf.reshape(l2, [-1, reduce(lambda x, y: x * y, shape[1:])])\n",
    "        q, w['q_w'], w['q_b'] = linear(l2_flat, 5, activation_fn=activation_fn, name='q')\n",
    "        q_action = tf.argmax(q, dimension=1)\n",
    "\n",
    "    tf.initialize_all_variables().run()\n",
    "    action = q_action.eval({s_t: [obs]})[0]\n",
    "    l1 = l2.eval({s_t: [obs]})[0]\n",
    "    q_w = w['q_w'].eval({s_t: [obs]})[0]\n",
    "    print l1\n",
    "    print q_w\n",
    "    print action"
   ]
  },
  {
   "cell_type": "code",
   "execution_count": 4,
   "metadata": {
    "collapsed": false,
    "scrolled": true
   },
   "outputs": [
    {
     "data": {
      "text/plain": [
       "{'l1_b': <tensorflow.python.ops.variables.Variable at 0x7fc361f325d0>,\n",
       " 'l1_w': <tensorflow.python.ops.variables.Variable at 0x7fc361f32110>,\n",
       " 'l2_b': <tensorflow.python.ops.variables.Variable at 0x7fc3082e1dd0>,\n",
       " 'l2_w': <tensorflow.python.ops.variables.Variable at 0x7fc361f32a90>}"
      ]
     },
     "execution_count": 4,
     "metadata": {},
     "output_type": "execute_result"
    }
   ],
   "source": [
    "w"
   ]
  },
  {
   "cell_type": "code",
   "execution_count": 5,
   "metadata": {
    "collapsed": false
   },
   "outputs": [
    {
     "name": "stdout",
     "output_type": "stream",
     "text": [
      "l2_b\n",
      "  [*] load weights/l2_b.pkl\n",
      "   [-] load_pkl : 0.00020 sec\n",
      "[ 1.30245376]\n",
      "l1_w\n",
      "  [*] load weights/l1_w.pkl\n",
      "   [-] load_pkl : 0.00009 sec\n",
      "[[[[ 2.28910303  0.28293025]]\n",
      "\n",
      "  [[ 0.28559086  2.28874159]]]\n",
      "\n",
      "\n",
      " [[[ 2.28989935  0.28293025]]\n",
      "\n",
      "  [[ 0.28559086  2.28695154]]]]\n",
      "l2_w\n",
      "  [*] load weights/l2_w.pkl\n",
      "   [-] load_pkl : 0.00008 sec\n",
      "[[[[ 2.3441813 ]\n",
      "   [ 2.33947611]]]]\n",
      "l1_b\n",
      "  [*] load weights/l1_b.pkl\n",
      "   [-] load_pkl : 0.00006 sec\n",
      "[ 0.29399195  0.29088825]\n"
     ]
    }
   ],
   "source": [
    "with tf.Session() as sess:\n",
    "    with tf.variable_scope('load_pred_from_pkl', reuse=True):\n",
    "        w_input = {}\n",
    "        w_assign_op = {}\n",
    "\n",
    "        for name in w.keys():\n",
    "            w_input[name] = tf.placeholder('float32', w[name].get_shape().as_list(), name=name)\n",
    "            w_assign_op[name] = w[name].assign(w_input[name])\n",
    "\n",
    "        for name in w.keys():\n",
    "            print name\n",
    "            print w_assign_op[name].eval({w_input[name]: load_pkl(os.path.join('weights', \"%s.pkl\" % name))})\n",
    "\n"
   ]
  },
  {
   "cell_type": "code",
   "execution_count": null,
   "metadata": {
    "collapsed": true
   },
   "outputs": [],
   "source": []
  }
 ],
 "metadata": {
  "kernelspec": {
   "display_name": "Python 2",
   "language": "python",
   "name": "python2"
  },
  "language_info": {
   "codemirror_mode": {
    "name": "ipython",
    "version": 2
   },
   "file_extension": ".py",
   "mimetype": "text/x-python",
   "name": "python",
   "nbconvert_exporter": "python",
   "pygments_lexer": "ipython2",
   "version": "2.7.6"
  }
 },
 "nbformat": 4,
 "nbformat_minor": 0
}
