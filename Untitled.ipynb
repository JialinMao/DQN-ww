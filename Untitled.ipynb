{
 "cells": [
  {
   "cell_type": "code",
   "execution_count": 1,
   "metadata": {
    "collapsed": false
   },
   "outputs": [
    {
     "name": "stderr",
     "output_type": "stream",
     "text": [
      "[2016-08-20 10:33:23,941] Site environment registry incorrect: Scoreboard did not register all envs: set(['Game-v2', 'Game-v0', 'Game-v1'])\n"
     ]
    }
   ],
   "source": [
    "%matplotlib inline\n",
    "\n",
    "import scipy\n",
    "from scipy import ndimage\n",
    "import gym\n",
    "import numpy as np\n",
    "import matplotlib.pyplot as plt"
   ]
  },
  {
   "cell_type": "code",
   "execution_count": 25,
   "metadata": {
    "collapsed": false
   },
   "outputs": [
    {
     "data": {
      "text/plain": [
       "<matplotlib.image.AxesImage at 0x7f2a2a1c9810>"
      ]
     },
     "execution_count": 25,
     "metadata": {},
     "output_type": "execute_result"
    },
    {
     "data": {
      "image/png": "[encoded data removed]",
      "text/plain": [
       "<matplotlib.figure.Figure at 0x7f2a704f09d0>"
      ]
     },
     "metadata": {},
     "output_type": "display_data"
    }
   ],
   "source": [
    "plt.imshow(obs,cmap='gray')"
   ]
  },
  {
   "cell_type": "code",
   "execution_count": 26,
   "metadata": {
    "collapsed": false,
    "scrolled": true
   },
   "outputs": [
    {
     "data": {
      "text/plain": [
       "<matplotlib.image.AxesImage at 0x7f2a2a0c23d0>"
      ]
     },
     "execution_count": 26,
     "metadata": {},
     "output_type": "execute_result"
    },
    {
     "data": {
      "image/png": "[encoded data removed]",
      "text/plain": [
       "<matplotlib.figure.Figure at 0x7f2a2a228b90>"
      ]
     },
     "metadata": {},
     "output_type": "display_data"
    }
   ],
   "source": [
    "blurred_obs = scipy.ndimage.gaussian_filter(np.array(obs[:,:,1],dtype='float64'),sigma=1)\n",
    "plt.imshow(blurred_obs*200,cmap='gray')"
   ]
  },
  {
   "cell_type": "code",
   "execution_count": 11,
   "metadata": {
    "collapsed": false
   },
   "outputs": [],
   "source": [
    "def softmax(x, alpha):\n",
    "    exp = np.exp(x/alpha)\n",
    "    return exp/np.sum(exp)"
   ]
  },
  {
   "cell_type": "code",
   "execution_count": 28,
   "metadata": {
    "collapsed": false
   },
   "outputs": [],
   "source": [
    "x = np.sum(softmax(blurred_obs*20, 0.2), axis=1)\n",
    "y = np.sum(softmax(blurred_obs*20, 0.2), axis=0)\n"
   ]
  },
  {
   "cell_type": "code",
   "execution_count": 29,
   "metadata": {
    "collapsed": false
   },
   "outputs": [
    {
     "data": {
      "text/plain": [
       "(8.1940923895297857, 2.4531419148501521)"
      ]
     },
     "execution_count": 29,
     "metadata": {},
     "output_type": "execute_result"
    }
   ],
   "source": [
    "x=x.dot(np.arange(12))\n",
    "y=np.arange(12).dot(y)\n",
    "x, y"
   ]
  },
  {
   "cell_type": "code",
   "execution_count": 62,
   "metadata": {
    "collapsed": false
   },
   "outputs": [
    {
     "name": "stderr",
     "output_type": "stream",
     "text": [
      "[2016-08-19 12:35:11,015] Making new env: Game-v0\n"
     ]
    },
    {
     "name": "stdout",
     "output_type": "stream",
     "text": [
      "\n",
      "   +------------------------------------+\n",
      "   |\u001b[30m . \u001b[0m\u001b[30m . \u001b[0m\u001b[30m . \u001b[0m\u001b[30m . \u001b[0m\u001b[30m . \u001b[0m\u001b[30m . \u001b[0m\u001b[30m . \u001b[0m\u001b[30m . \u001b[0m\u001b[30m . \u001b[0m\u001b[30m . \u001b[0m\u001b[30m . \u001b[0m\u001b[30m . \u001b[0m|\n",
      "   |\u001b[30m . \u001b[0m\u001b[30m . \u001b[0m\u001b[30m . \u001b[0m\u001b[30m . \u001b[0m\u001b[37m c \u001b[0m\u001b[30m . \u001b[0m\u001b[30m . \u001b[0m\u001b[30m . \u001b[0m\u001b[30m . \u001b[0m\u001b[32m b \u001b[0m\u001b[30m . \u001b[0m\u001b[32m b \u001b[0m|\n",
      "   |\u001b[30m . \u001b[0m\u001b[30m . \u001b[0m\u001b[37m c \u001b[0m\u001b[30m . \u001b[0m\u001b[30m . \u001b[0m\u001b[30m . \u001b[0m\u001b[30m . \u001b[0m\u001b[30m . \u001b[0m\u001b[30m . \u001b[0m\u001b[32m b \u001b[0m\u001b[32m b \u001b[0m\u001b[32m b \u001b[0m|\n",
      "   |\u001b[30m . \u001b[0m\u001b[30m . \u001b[0m\u001b[30m . \u001b[0m\u001b[30m . \u001b[0m\u001b[30m . \u001b[0m\u001b[30m . \u001b[0m\u001b[30m . \u001b[0m\u001b[30m . \u001b[0m\u001b[30m . \u001b[0m\u001b[30m . \u001b[0m\u001b[32m b \u001b[0m\u001b[30m . \u001b[0m|\n",
      "   |\u001b[30m . \u001b[0m\u001b[30m . \u001b[0m\u001b[30m . \u001b[0m\u001b[37m c \u001b[0m\u001b[30m . \u001b[0m\u001b[30m . \u001b[0m\u001b[30m . \u001b[0m\u001b[30m . \u001b[0m\u001b[30m . \u001b[0m\u001b[32m b \u001b[0m\u001b[32m b \u001b[0m\u001b[32m b \u001b[0m|\n",
      "   |\u001b[30m . \u001b[0m\u001b[30m . \u001b[0m\u001b[30m . \u001b[0m\u001b[30m . \u001b[0m\u001b[30m . \u001b[0m\u001b[30m . \u001b[0m\u001b[30m . \u001b[0m\u001b[30m . \u001b[0m\u001b[30m . \u001b[0m\u001b[30m . \u001b[0m\u001b[30m . \u001b[0m\u001b[30m . \u001b[0m|\n",
      "   |\u001b[30m . \u001b[0m\u001b[30m . \u001b[0m\u001b[30m . \u001b[0m\u001b[30m . \u001b[0m\u001b[30m . \u001b[0m\u001b[30m . \u001b[0m\u001b[30m . \u001b[0m\u001b[30m . \u001b[0m\u001b[30m . \u001b[0m\u001b[30m . \u001b[0m\u001b[30m . \u001b[0m\u001b[30m . \u001b[0m|\n",
      "   |\u001b[30m . \u001b[0m\u001b[30m . \u001b[0m\u001b[30m . \u001b[0m\u001b[30m . \u001b[0m\u001b[30m . \u001b[0m\u001b[30m . \u001b[0m\u001b[30m . \u001b[0m\u001b[30m . \u001b[0m\u001b[30m . \u001b[0m\u001b[30m . \u001b[0m\u001b[30m . \u001b[0m\u001b[30m . \u001b[0m|\n",
      "   |\u001b[30m . \u001b[0m\u001b[30m . \u001b[0m\u001b[30m . \u001b[0m\u001b[30m . \u001b[0m\u001b[30m . \u001b[0m\u001b[30m . \u001b[0m\u001b[30m . \u001b[0m\u001b[35m a \u001b[0m\u001b[30m . \u001b[0m\u001b[30m . \u001b[0m\u001b[30m . \u001b[0m\u001b[30m . \u001b[0m|\n",
      "   |\u001b[30m . \u001b[0m\u001b[30m . \u001b[0m\u001b[30m . \u001b[0m\u001b[30m . \u001b[0m\u001b[30m . \u001b[0m\u001b[30m . \u001b[0m\u001b[30m . \u001b[0m\u001b[30m . \u001b[0m\u001b[30m . \u001b[0m\u001b[30m . \u001b[0m\u001b[30m . \u001b[0m\u001b[30m . \u001b[0m|\n",
      "   |\u001b[30m . \u001b[0m\u001b[30m . \u001b[0m\u001b[30m . \u001b[0m\u001b[30m . \u001b[0m\u001b[30m . \u001b[0m\u001b[30m . \u001b[0m\u001b[30m . \u001b[0m\u001b[30m . \u001b[0m\u001b[30m . \u001b[0m\u001b[30m . \u001b[0m\u001b[30m . \u001b[0m\u001b[30m . \u001b[0m|\n",
      "   |\u001b[30m . \u001b[0m\u001b[30m . \u001b[0m\u001b[30m . \u001b[0m\u001b[30m . \u001b[0m\u001b[30m . \u001b[0m\u001b[30m . \u001b[0m\u001b[30m . \u001b[0m\u001b[30m . \u001b[0m\u001b[30m . \u001b[0m\u001b[30m . \u001b[0m\u001b[30m . \u001b[0m\u001b[30m . \u001b[0m|\n",
      "   +------------------------------------+\n"
     ]
    },
    {
     "data": {
      "text/plain": [
       "<ipykernel.iostream.OutStream at 0x7f2a82e32ad0>"
      ]
     },
     "execution_count": 62,
     "metadata": {},
     "output_type": "execute_result"
    }
   ],
   "source": [
    "env = gym.make('Game-v0')\n",
    "obs = env.reset()\n",
    "env.render()"
   ]
  },
  {
   "cell_type": "code",
   "execution_count": 67,
   "metadata": {
    "collapsed": true
   },
   "outputs": [],
   "source": [
    "x = np.zeros([4+1, 3+1])\n",
    "sal = np.array(obs[:,:,0]==0,dtype='float64')\n",
    "top_k=np.argsort(sal.ravel())[-4:]"
   ]
  },
  {
   "cell_type": "code",
   "execution_count": 71,
   "metadata": {
    "collapsed": false
   },
   "outputs": [
    {
     "data": {
      "text/plain": [
       "array([[ 0.,  0.,  0.,  0.,  1.],\n",
       "       [ 0.,  0.,  1.,  0.,  0.],\n",
       "       [ 0.,  0.,  1.,  0.,  0.],\n",
       "       [ 0.,  0.,  1.,  0.,  0.]])"
      ]
     },
     "execution_count": 71,
     "metadata": {},
     "output_type": "execute_result"
    }
   ],
   "source": [
    "obs.reshape([-1, obs.shape[2]])[top_k]"
   ]
  },
  {
   "cell_type": "code",
   "execution_count": 63,
   "metadata": {
    "collapsed": false
   },
   "outputs": [],
   "source": [
    "x = np.array(obs[:,:,0]==0, dtype='float64')"
   ]
  },
  {
   "cell_type": "code",
   "execution_count": 64,
   "metadata": {
    "collapsed": false
   },
   "outputs": [
    {
     "name": "stdout",
     "output_type": "stream",
     "text": [
      "[33 34 58 35]\n"
     ]
    }
   ],
   "source": [
    "top_k=np.argsort(x.ravel())[-4:]\n",
    "print top_k"
   ]
  },
  {
   "cell_type": "code",
   "execution_count": 65,
   "metadata": {
    "collapsed": true
   },
   "outputs": [],
   "source": [
    "obs = env.step(top_k[0])[0]"
   ]
  },
  {
   "cell_type": "code",
   "execution_count": 66,
   "metadata": {
    "collapsed": false
   },
   "outputs": [
    {
     "data": {
      "text/plain": [
       "array([[ 0.,  0.,  0.,  0.,  0.,  0.,  0.,  0.,  0.,  0.,  0.,  0.],\n",
       "       [ 0.,  0.,  0.,  0.,  0.,  0.,  0.,  0.,  0.,  0.,  0.,  0.],\n",
       "       [ 0.,  0.,  0.,  0.,  0.,  0.,  0.,  0.,  0.,  0.,  0.,  0.],\n",
       "       [ 0.,  0.,  0.,  0.,  0.,  0.,  0.,  0.,  0.,  0.,  0.,  0.],\n",
       "       [ 0.,  0.,  0.,  0.,  0.,  0.,  0.,  0.,  0.,  0.,  0.,  0.],\n",
       "       [ 0.,  0.,  0.,  0.,  0.,  0.,  0.,  0.,  0.,  0.,  0.,  0.],\n",
       "       [ 0.,  0.,  0.,  0.,  0.,  0.,  0.,  0.,  0.,  0.,  0.,  0.],\n",
       "       [ 0.,  0.,  0.,  0.,  0.,  0.,  0.,  0.,  0.,  0.,  0.,  0.],\n",
       "       [ 0.,  0.,  0.,  0.,  0.,  0.,  0.,  0.,  0.,  0.,  0.,  0.],\n",
       "       [ 0.,  0.,  0.,  0.,  0.,  0.,  0.,  0.,  0.,  0.,  0.,  0.],\n",
       "       [ 0.,  0.,  0.,  0.,  0.,  0.,  0.,  0.,  0.,  0.,  0.,  0.],\n",
       "       [ 0.,  0.,  0.,  0.,  0.,  0.,  0.,  0.,  0.,  0.,  0.,  0.]])"
      ]
     },
     "execution_count": 66,
     "metadata": {},
     "output_type": "execute_result"
    }
   ],
   "source": [
    "np.array(obs[:,:,0]==0, dtype='float64') - x"
   ]
  },
  {
   "cell_type": "code",
   "execution_count": 10,
   "metadata": {
    "collapsed": false
   },
   "outputs": [],
   "source": [
    "new_b = np.zeros_like(obs)"
   ]
  },
  {
   "cell_type": "code",
   "execution_count": 11,
   "metadata": {
    "collapsed": true
   },
   "outputs": [],
   "source": [
    "for i in range(new_b.shape[0]):\n",
    "    for j in range(new_b.shape[1]):\n",
    "        new_b[i, j] = np.sum(obs[i-1:i+2, j-1:j+2])"
   ]
  },
  {
   "cell_type": "code",
   "execution_count": 12,
   "metadata": {
    "collapsed": false
   },
   "outputs": [
    {
     "data": {
      "text/plain": [
       "array([[ 0.,  0.,  0.,  0.,  0.,  0.,  0.,  0.,  0.,  0.,  0.,  0.],\n",
       "       [ 0.,  0.,  0.,  0.,  0.,  0.,  0.,  1.,  2.,  3.,  3.,  2.],\n",
       "       [ 0.,  0.,  0.,  0.,  0.,  0.,  0.,  2.,  3.,  4.,  3.,  2.],\n",
       "       [ 0.,  0.,  0.,  0.,  0.,  0.,  1.,  2.,  3.,  2.,  2.,  1.],\n",
       "       [ 0.,  0.,  0.,  0.,  0.,  0.,  1.,  2.,  3.,  2.,  1.,  0.],\n",
       "       [ 0.,  0.,  0.,  0.,  0.,  0.,  2.,  2.,  3.,  1.,  1.,  0.],\n",
       "       [ 0.,  1.,  1.,  1.,  1.,  1.,  1.,  1.,  1.,  0.,  0.,  0.],\n",
       "       [ 0.,  1.,  1.,  2.,  2.,  2.,  1.,  1.,  2.,  1.,  1.,  0.],\n",
       "       [ 0.,  2.,  3.,  3.,  3.,  2.,  0.,  1.,  2.,  2.,  1.,  0.],\n",
       "       [ 0.,  1.,  2.,  2.,  2.,  1.,  0.,  2.,  3.,  3.,  1.,  0.],\n",
       "       [ 0.,  1.,  2.,  2.,  2.,  1.,  0.,  2.,  2.,  3.,  1.,  1.],\n",
       "       [ 0.,  0.,  0.,  1.,  1.,  1.,  0.,  1.,  1.,  2.,  1.,  1.]])"
      ]
     },
     "execution_count": 12,
     "metadata": {},
     "output_type": "execute_result"
    }
   ],
   "source": [
    "new_b"
   ]
  },
  {
   "cell_type": "code",
   "execution_count": 7,
   "metadata": {
    "collapsed": false
   },
   "outputs": [
    {
     "name": "stderr",
     "output_type": "stream",
     "text": [
      "[2016-08-19 14:14:32,622] Making new env: Game-v0\n"
     ]
    }
   ],
   "source": [
    "env = gym.make('Game-v0')\n",
    "obs = env.reset()\n",
    "obs = np.array(obs[:,:,0]==0, dtype='float64')\n",
    "blurred_obs = scipy.ndimage.gaussian_filter(np.array(obs,dtype='float64'),sigma=1)"
   ]
  },
  {
   "cell_type": "code",
   "execution_count": 8,
   "metadata": {
    "collapsed": false
   },
   "outputs": [
    {
     "data": {
      "text/plain": [
       "<matplotlib.image.AxesImage at 0x7fe1c363b5d0>"
      ]
     },
     "execution_count": 8,
     "metadata": {},
     "output_type": "execute_result"
    },
    {
     "data": {
      "image/png": "[encoded data removed]",
      "text/plain": [
       "<matplotlib.figure.Figure at 0x7fe1c36bf0d0>"
      ]
     },
     "metadata": {},
     "output_type": "display_data"
    }
   ],
   "source": [
    "plt.imshow(blurred_obs, cmap='gray')"
   ]
  },
  {
   "cell_type": "code",
   "execution_count": 15,
   "metadata": {
    "collapsed": false
   },
   "outputs": [
    {
     "data": {
      "text/plain": [
       "array([0, 0, 0, 0, 0, 0, 0, 0, 0, 0, 0, 0, 0, 0, 0, 0, 0, 0, 0, 0, 0, 0, 0,\n",
       "       0, 0, 0, 0, 0, 0, 0, 0, 0, 0, 0, 0, 0, 0, 0, 0, 0, 0, 0, 0, 0, 0, 0,\n",
       "       0, 0, 0, 0, 0, 0, 0, 0, 0, 0, 0, 0, 0, 0, 0, 0, 0, 0, 0, 0, 0, 0, 0,\n",
       "       0, 0, 0, 1, 0, 0, 0, 0, 0, 0, 0, 0, 0, 0, 0, 0, 0, 0, 0, 0, 0, 0, 0,\n",
       "       0, 0, 0, 0, 2, 0, 0, 0, 0, 0, 0, 0, 0, 0, 0, 0, 0, 0, 0, 0, 0, 0, 0,\n",
       "       0, 0, 0, 0, 0, 0, 0, 1, 0, 0, 0, 0, 0, 0, 0, 0, 0, 0, 0, 0, 0, 0, 0,\n",
       "       0, 0, 0, 0, 0, 0])"
      ]
     },
     "execution_count": 15,
     "metadata": {},
     "output_type": "execute_result"
    }
   ],
   "source": [
    "np.random.multinomial(4, pvals=np.ravel(softmax(blurred_obs, 0.5)))"
   ]
  },
  {
   "cell_type": "code",
   "execution_count": 31,
   "metadata": {
    "collapsed": false
   },
   "outputs": [
    {
     "data": {
      "text/plain": [
       "array([ 97, 135, 110, 136])"
      ]
     },
     "execution_count": 31,
     "metadata": {},
     "output_type": "execute_result"
    }
   ],
   "source": [
    "np.random.choice(np.arange(144), p=np.ravel(softmax(obs, 0.1)), size=4, replace=False)"
   ]
  },
  {
   "cell_type": "code",
   "execution_count": 35,
   "metadata": {
    "collapsed": false
   },
   "outputs": [
    {
     "data": {
      "text/plain": [
       "1.0"
      ]
     },
     "execution_count": 35,
     "metadata": {},
     "output_type": "execute_result"
    }
   ],
   "source": [
    "obs.ravel()[136]"
   ]
  },
  {
   "cell_type": "code",
   "execution_count": null,
   "metadata": {
    "collapsed": true
   },
   "outputs": [],
   "source": []
  }
 ],
 "metadata": {
  "kernelspec": {
   "display_name": "Python 2",
   "language": "python",
   "name": "python2"
  },
  "language_info": {
   "codemirror_mode": {
    "name": "ipython",
    "version": 2
   },
   "file_extension": ".py",
   "mimetype": "text/x-python",
   "name": "python",
   "nbconvert_exporter": "python",
   "pygments_lexer": "ipython2",
   "version": "2.7.6"
  }
 },
 "nbformat": 4,
 "nbformat_minor": 0
}
